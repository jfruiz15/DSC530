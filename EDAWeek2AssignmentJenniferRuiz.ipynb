{
 "cells": [
  {
   "cell_type": "markdown",
   "metadata": {},
   "source": [
    "#Week Two Assignment\n",
    "\n",
    "This is the DSC-530 Data Exploration and Analysis assigment 2.1.\n",
    "\n",
    "#what this assignment contains:\n",
    "1. Printing \"Hello World Message\"\n",
    "2. Addition of two numbers together\n",
    "3. Subtraction of  two numbers\n",
    "4. Multiplication of  two numbers\n",
    "5. Division of two numbers\n",
    "6. Concatenation of two strings\n",
    "7. Creation of a list\n",
    "8. Appending items to a list\n",
    "9. Creation of a Tuple of 4 items"
   ]
  },
  {
   "cell_type": "code",
   "execution_count": 17,
   "metadata": {},
   "outputs": [
    {
     "name": "stdout",
     "output_type": "stream",
     "text": [
      "Hello World! I wonder why that is always the default coding text to start with\n"
     ]
    }
   ],
   "source": [
    "print(\"Hello World! I wonder why that is always the default coding text to start with\")"
   ]
  },
  {
   "cell_type": "code",
   "execution_count": 18,
   "metadata": {},
   "outputs": [
    {
     "name": "stdout",
     "output_type": "stream",
     "text": [
      "12\n"
     ]
    }
   ],
   "source": [
    "print( 5+7)"
   ]
  },
  {
   "cell_type": "code",
   "execution_count": 19,
   "metadata": {},
   "outputs": [
    {
     "name": "stdout",
     "output_type": "stream",
     "text": [
      "71\n"
     ]
    }
   ],
   "source": [
    "print(86-15)"
   ]
  },
  {
   "cell_type": "code",
   "execution_count": 20,
   "metadata": {},
   "outputs": [
    {
     "name": "stdout",
     "output_type": "stream",
     "text": [
      "84\n"
     ]
    }
   ],
   "source": [
    "print(12*7)"
   ]
  },
  {
   "cell_type": "code",
   "execution_count": 21,
   "metadata": {},
   "outputs": [
    {
     "name": "stdout",
     "output_type": "stream",
     "text": [
      "6.0\n"
     ]
    }
   ],
   "source": [
    "print(36/6)"
   ]
  },
  {
   "cell_type": "code",
   "execution_count": 22,
   "metadata": {},
   "outputs": [
    {
     "name": "stdout",
     "output_type": "stream",
     "text": [
      "A Song of Fire and Ice:Game of Thrones\n"
     ]
    }
   ],
   "source": [
    "book1= \"A Song of Fire and Ice:\"\n",
    "book2= \"Game of Thrones\"\n",
    "print(book1 + book2)"
   ]
  },
  {
   "cell_type": "code",
   "execution_count": 23,
   "metadata": {},
   "outputs": [
    {
     "name": "stdout",
     "output_type": "stream",
     "text": [
      "['SciFi', 'Fantasy', 'Mystery', 'Biography']\n"
     ]
    }
   ],
   "source": [
    "book_genres= ['SciFi', 'Fantasy', 'Mystery', 'Biography']\n",
    "print(book_genres)"
   ]
  },
  {
   "cell_type": "code",
   "execution_count": 24,
   "metadata": {},
   "outputs": [
    {
     "name": "stdout",
     "output_type": "stream",
     "text": [
      "['SciFi', 'Fantasy', 'Mystery', 'Biography', 'Historical Fiction']\n"
     ]
    }
   ],
   "source": [
    "book_genres.append('Historical Fiction')\n",
    "print(book_genres)"
   ]
  },
  {
   "cell_type": "code",
   "execution_count": 27,
   "metadata": {},
   "outputs": [
    {
     "name": "stdout",
     "output_type": "stream",
     "text": [
      "('Rock', 'Indie', 'Alternative', 'Pop', 'Jazz')\n"
     ]
    }
   ],
   "source": [
    "music_genres = ('Rock', 'Indie', 'Alternative', 'Pop', 'Jazz')\n",
    "print(music_genres)\n"
   ]
  }
 ],
 "metadata": {
  "kernelspec": {
   "display_name": "Python 3",
   "language": "python",
   "name": "python3"
  },
  "language_info": {
   "codemirror_mode": {
    "name": "ipython",
    "version": 3
   },
   "file_extension": ".py",
   "mimetype": "text/x-python",
   "name": "python",
   "nbconvert_exporter": "python",
   "pygments_lexer": "ipython3",
   "version": "3.7.4"
  }
 },
 "nbformat": 4,
 "nbformat_minor": 2
}
